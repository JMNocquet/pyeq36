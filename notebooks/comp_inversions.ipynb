{
  "cells": [
    {
      "cell_type": "markdown",
      "source": [
        "Various functions to compare different inversions - nocquet@geoazur.unice.fr 07/12/2020"
      ],
      "metadata": {
        "nteract": {
          "transient": {
            "deleting": false
          }
        }
      }
    },
    {
      "cell_type": "code",
      "source": [
        "# import\n",
        "import matplotlib.pyplot as plt\n",
        "import pickle\n",
        "from colors import red\n",
        "import sys\n",
        "import os\n",
        "from pyacs.gts.Sgts import Sgts\n",
        "import glob\n",
        "%matplotlib qt"
      ],
      "outputs": [],
      "execution_count": 2,
      "metadata": {
        "collapsed": true,
        "jupyter": {
          "source_hidden": false,
          "outputs_hidden": false
        },
        "nteract": {
          "transient": {
            "deleting": false
          }
        },
        "execution": {
          "iopub.status.busy": "2020-12-08T10:35:13.479Z",
          "iopub.execute_input": "2020-12-08T10:35:13.483Z",
          "iopub.status.idle": "2020-12-08T10:35:13.491Z",
          "shell.execute_reply": "2020-12-08T10:35:13.495Z"
        }
      }
    },
    {
      "cell_type": "code",
      "source": [
        "# list of inversion result directories\n",
        "linv = ['/Users/nocquet/projets/2020/thesis_rtissandier/copiapo_2020/07_12_2020/inversions_copiapo/cov_5_35_0_20246_16_16_1371_PAZU',\n",
        "        '/Users/nocquet/projets/2020/thesis_rtissandier/copiapo_2020/07_12_2020/inversions_copiapo/cov_5_35_0_20246_16_16_1371_PAZU_TAU0.1',\n",
        "        '/Users/nocquet/projets/2020/thesis_rtissandier/copiapo_2020/07_12_2020/inversions_copiapo/cov_5_35_0_20246_16_16_1371_PAZU_TAU0.5',\n",
        "        '/Users/nocquet/projets/2020/thesis_rtissandier/copiapo_2020/07_12_2020/inversions_copiapo/cov_5_35_1_20246_17_17_1371']"
      ],
      "outputs": [],
      "execution_count": 3,
      "metadata": {
        "collapsed": true,
        "jupyter": {
          "source_hidden": false,
          "outputs_hidden": false
        },
        "nteract": {
          "transient": {
            "deleting": false
          }
        },
        "execution": {
          "iopub.status.busy": "2020-12-08T10:35:42.256Z",
          "iopub.execute_input": "2020-12-08T10:35:42.259Z",
          "iopub.status.idle": "2020-12-08T10:35:42.269Z",
          "shell.execute_reply": "2020-12-08T10:35:42.274Z"
        }
      }
    },
    {
      "cell_type": "code",
      "source": [
        "# loads the models\n",
        "lmodel = []\n",
        "for inv in linv:\n",
        "    pck = inv+'/npy/model.pck'\n",
        "\n",
        "    print(\"-- Loading %s (%.2f Gb) \" % ( pck , os.path.getsize( pck ) /1024 / 1024 / 1024 ) )\n",
        "    with open( pck, \"rb\") as f:\n",
        "        lmodel.append( pickle.load( f ) )\n",
        "    f.close()\n"
      ],
      "outputs": [
        {
          "output_type": "stream",
          "name": "stdout",
          "text": [
            "-- Loading /Users/nocquet/projets/2020/thesis_rtissandier/copiapo_2020/07_12_2020/inversions_copiapo/cov_5_35_0_20246_16_16_1371_PAZU/npy/model.pck (0.02 Gb) \n",
            "-- Loading /Users/nocquet/projets/2020/thesis_rtissandier/copiapo_2020/07_12_2020/inversions_copiapo/cov_5_35_0_20246_16_16_1371_PAZU_TAU0.1/npy/model.pck (0.02 Gb) \n",
            "-- Loading /Users/nocquet/projets/2020/thesis_rtissandier/copiapo_2020/07_12_2020/inversions_copiapo/cov_5_35_0_20246_16_16_1371_PAZU_TAU0.5/npy/model.pck (0.02 Gb) \n",
            "-- Loading /Users/nocquet/projets/2020/thesis_rtissandier/copiapo_2020/07_12_2020/inversions_copiapo/cov_5_35_1_20246_17_17_1371/npy/model.pck (0.02 Gb) \n"
          ]
        }
      ],
      "execution_count": 4,
      "metadata": {
        "collapsed": true,
        "jupyter": {
          "source_hidden": false,
          "outputs_hidden": false
        },
        "nteract": {
          "transient": {
            "deleting": false
          }
        },
        "execution": {
          "iopub.status.busy": "2020-12-08T10:35:52.856Z",
          "iopub.execute_input": "2020-12-08T10:35:52.860Z",
          "iopub.status.idle": "2020-12-08T10:35:53.093Z",
          "shell.execute_reply": "2020-12-08T10:35:53.100Z"
        }
      }
    },
    {
      "cell_type": "code",
      "source": [
        "# compare STF\n",
        "for i,model in enumerate(lmodel):\n",
        "    plt.plot( model.np_mid_model_delta_d , model.STF , '-o' , markersize=2,label=linv[i].split('/')[-1])\n",
        "\n",
        "plt.legend()\n",
        "plt.title( (\"STF - %s \" % model.name ) )\n",
        "plt.xlabel('days')\n",
        "plt.ylabel('Moment rate (N.m)')    "
      ],
      "outputs": [
        {
          "output_type": "execute_result",
          "execution_count": 5,
          "data": {
            "text/plain": "Text(0, 0.5, 'Moment rate (N.m)')"
          },
          "metadata": {}
        }
      ],
      "execution_count": 5,
      "metadata": {
        "collapsed": true,
        "jupyter": {
          "source_hidden": false,
          "outputs_hidden": false
        },
        "nteract": {
          "transient": {
            "deleting": false
          }
        },
        "execution": {
          "iopub.status.busy": "2020-12-08T10:36:04.278Z",
          "iopub.execute_input": "2020-12-08T10:36:04.283Z",
          "iopub.status.idle": "2020-12-08T10:36:04.679Z",
          "shell.execute_reply": "2020-12-08T10:36:04.689Z"
        }
      }
    },
    {
      "cell_type": "code",
      "source": [
        "# compare CSTF\n",
        "for i,model in enumerate(lmodel):\n",
        "    plt.plot( model.np_model_delta_d , model.CSTF , '-o' , markersize=2,label=linv[i].split('/')[-1])\n",
        "\n",
        "plt.legend()\n",
        "plt.title( (\"CSTF - %s \" % model.name ) )\n",
        "plt.xlabel('days')\n",
        "plt.ylabel('Cumulated Moment (N.m)')    "
      ],
      "outputs": [
        {
          "output_type": "execute_result",
          "execution_count": 6,
          "data": {
            "text/plain": "Text(0, 0.5, 'Cumulated Moment (N.m)')"
          },
          "metadata": {}
        }
      ],
      "execution_count": 6,
      "metadata": {
        "collapsed": true,
        "jupyter": {
          "source_hidden": false,
          "outputs_hidden": false
        },
        "nteract": {
          "transient": {
            "deleting": false
          }
        },
        "execution": {
          "iopub.status.busy": "2020-12-08T10:36:16.084Z",
          "iopub.execute_input": "2020-12-08T10:36:16.091Z",
          "iopub.status.idle": "2020-12-08T10:36:16.166Z",
          "shell.execute_reply": "2020-12-08T10:36:16.172Z"
        }
      }
    },
    {
      "cell_type": "code",
      "source": [
        "# compare model for a given site\n",
        "code = 'TRST'\n",
        "obs = Sgts(linv[0]+'/time_series/obs',verbose=False)\n",
        "lmodel_gts = []\n",
        "# load the modeled time series\n",
        "for inv in linv:\n",
        "    lmodel_gts.append( Sgts(inv+'/time_series/model_all_dates',verbose=False) )\n",
        "# select time series\n",
        "lts = []\n",
        "for i,ts in enumerate(lmodel_gts):\n",
        "    \n",
        "    wts = ts.__dict__[code]\n",
        "    wts.code = linv[i].split('/')[-1]\n",
        "    lts.append( wts )\n",
        "# make plot\n",
        "obs.__dict__[code].plot(superimposed=lts,center=False,legend=True)"
      ],
      "outputs": [
        {
          "output_type": "stream",
          "name": "stderr",
          "text": [
            "/usr/local/geodesy/anaconda38/lib/python3.8/site-packages/pyacs/lib/glinalg.py:266: RuntimeWarning: invalid value encountered in true_divide\n",
            "  correlation = Cov / outer_v\n"
          ]
        },
        {
          "output_type": "execute_result",
          "execution_count": 7,
          "data": {
            "text/plain": "<pyacs.gts.Gts.Gts at 0x7ff8d5063610>"
          },
          "metadata": {}
        }
      ],
      "execution_count": 7,
      "metadata": {
        "collapsed": true,
        "jupyter": {
          "source_hidden": false,
          "outputs_hidden": false
        },
        "nteract": {
          "transient": {
            "deleting": false
          }
        },
        "execution": {
          "iopub.status.busy": "2020-12-08T10:36:28.479Z",
          "iopub.execute_input": "2020-12-08T10:36:28.487Z",
          "iopub.status.idle": "2020-12-08T10:36:28.735Z",
          "shell.execute_reply": "2020-12-08T10:36:28.745Z"
        }
      }
    },
    {
      "cell_type": "code",
      "source": [
        "# plot several cumulative models at the final date\n",
        "for inv in linv:\n",
        "    pdf = glob.glob(inv+'/plots/model_cumulative_contour/*.pdf')[-1]\n",
        "    !open $pdf"
      ],
      "outputs": [],
      "execution_count": 8,
      "metadata": {
        "collapsed": true,
        "jupyter": {
          "source_hidden": false,
          "outputs_hidden": false
        },
        "nteract": {
          "transient": {
            "deleting": false
          }
        },
        "execution": {
          "iopub.status.busy": "2020-12-08T10:36:44.789Z",
          "iopub.execute_input": "2020-12-08T10:36:44.796Z",
          "iopub.status.idle": "2020-12-08T10:36:45.390Z",
          "shell.execute_reply": "2020-12-08T10:36:45.396Z"
        }
      }
    },
    {
      "cell_type": "code",
      "source": [
        "# plot several rate models at a given step\n",
        "step = 0\n",
        "for inv in linv:\n",
        "    pdf = sorted( glob.glob(inv+'/plots/model_rate_contour/*.pdf'))[step]\n",
        "    !open $pdf"
      ],
      "outputs": [],
      "execution_count": 9,
      "metadata": {
        "collapsed": true,
        "jupyter": {
          "source_hidden": false,
          "outputs_hidden": false
        },
        "nteract": {
          "transient": {
            "deleting": false
          }
        },
        "execution": {
          "iopub.status.busy": "2020-12-08T10:36:57.579Z",
          "iopub.execute_input": "2020-12-08T10:36:57.584Z",
          "iopub.status.idle": "2020-12-08T10:36:58.253Z",
          "shell.execute_reply": "2020-12-08T10:36:58.261Z"
        }
      }
    },
    {
      "cell_type": "code",
      "source": [],
      "outputs": [],
      "execution_count": null,
      "metadata": {
        "collapsed": true,
        "jupyter": {
          "source_hidden": false,
          "outputs_hidden": false
        },
        "nteract": {
          "transient": {
            "deleting": false
          }
        }
      }
    }
  ],
  "metadata": {
    "kernel_info": {
      "name": "python3"
    },
    "language_info": {
      "name": "python",
      "version": "3.8.3",
      "mimetype": "text/x-python",
      "codemirror_mode": {
        "name": "ipython",
        "version": 3
      },
      "pygments_lexer": "ipython3",
      "nbconvert_exporter": "python",
      "file_extension": ".py"
    },
    "kernelspec": {
      "argv": [
        "/usr/local/geodesy/anaconda38/bin/python",
        "-m",
        "ipykernel_launcher",
        "-f",
        "{connection_file}"
      ],
      "display_name": "Python 3",
      "language": "python",
      "name": "python3"
    },
    "nteract": {
      "version": "0.26.0"
    }
  },
  "nbformat": 4,
  "nbformat_minor": 0
}